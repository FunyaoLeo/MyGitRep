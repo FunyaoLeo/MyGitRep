{
 "cells": [
  {
   "cell_type": "markdown",
   "metadata": {},
   "source": [
    "## EE232E Project 3 Reinforcement Learning and Inverse Reinforcement Learning"
   ]
  },
  {
   "cell_type": "markdown",
   "metadata": {},
   "source": [
    "### Part 1 Reinforcement Learning"
   ]
  },
  {
   "cell_type": "code",
   "execution_count": 16,
   "metadata": {},
   "outputs": [],
   "source": [
    "import matplotlib\n",
    "matplotlib.use('TkAgg')\n",
    "import math\n",
    "import numpy as np\n",
    "import seaborn as sns\n",
    "from cvxopt import matrix, solvers\n",
    "\n",
    "from matplotlib import pyplot as plt\n",
    "%matplotlib inline"
   ]
  },
  {
   "cell_type": "code",
   "execution_count": 3,
   "metadata": {},
   "outputs": [],
   "source": [
    "######################################################################\n",
    "# global variables definition\n",
    "######################################################################\n",
    "number_of_states = 100\n",
    "actions = {1: [0, -1], 2: [0, 1], 3: [-1, 0], 4: [0, 1]}\n",
    "w = 0.1\n",
    "discount_factor = 0.8\n",
    "A = [[-1, 0], [1, 0], [0, -1], [0, 1]]"
   ]
  },
  {
   "cell_type": "code",
   "execution_count": 4,
   "metadata": {},
   "outputs": [],
   "source": [
    "reward_function1 = np.array([[0.0, 0.0, 0.0, 0.0, 0.0, 0.0, 0.0, 0.0, 0.0, 0.0],\n",
    "                     [0.0, 0.0, 0.0, 0.0, 0.0, 0.0, 0.0, 0.0, 0.0, 0.0],\n",
    "                     [0.0, 0.0, 0.0, 0.0, 0.0, 0.0, 0.0, 0.0, 0.0, 0.0],\n",
    "                     [0.0, 0.0, 0.0, 0.0, 0.0, 0.0, 0.0, 0.0, 0.0, 0.0],\n",
    "                     [0.0, 0.0, 0.0, 0.0, 0.0, 0.0, 0.0, 0.0, 0.0, 0.0],\n",
    "                     [0.0, 0.0, 0.0, 0.0, 0.0, 0.0, 0.0, 0.0, 0.0, 0.0],\n",
    "                     [0.0, 0.0, 0.0, 0.0, 0.0, 0.0, 0.0, 0.0, 0.0, 0.0],\n",
    "                     [0.0, 0.0, 0.0, 0.0, 0.0, 0.0, 0.0, 0.0, 0.0, 0.0],\n",
    "                     [0.0, 0.0, 0.0, 0.0, 0.0, 0.0, 0.0, 0.0, 0.0, 0.0],\n",
    "                     [0.0, 0.0, 0.0, 0.0, 0.0, 0.0, 0.0, 0.0, 0.0, 1.0]])\n"
   ]
  },
  {
   "cell_type": "code",
   "execution_count": 5,
   "metadata": {},
   "outputs": [],
   "source": [
    "reward_function2 = np.array([[0.0, 0.0, 0.0, 0.0,   0.0,    0.0,    0.0,    0.0,    0.0,  0.0],\n",
    "                     [0.0, 0.0, 0.0, 0.0, -100.0, -100.0, -100.0,    0.0,    0.0,  0.0],\n",
    "                     [0.0, 0.0, 0.0, 0.0, -100.0,    0.0, -100.0,    0.0,    0.0,  0.0],\n",
    "                     [0.0, 0.0, 0.0, 0.0, -100.0,    0.0, -100.0, -100.0, -100.0,  0.0],\n",
    "                     [0.0, 0.0, 0.0, 0.0, -100.0,    0.0,    0.0,    0.0, -100.0,  0.0],\n",
    "                     [0.0, 0.0, 0.0, 0.0, -100.0,    0.0,    0.0,    0.0, -100.0,  0.0],\n",
    "                     [0.0, 0.0, 0.0, 0.0, -100.0,    0.0,    0.0,    0.0, -100.0,  0.0],\n",
    "                     [0.0, 0.0, 0.0, 0.0,    0.0,    0.0, -100.0, -100.0, -100.0,  0.0],\n",
    "                     [0.0, 0.0, 0.0, 0.0,    0.0,    0.0, -100.0,    0.0,    0.0,  0.0],\n",
    "                     [0.0, 0.0, 0.0, 0.0,    0.0,    0.0,    0.0,    0.0,    0.0, 10.0]])\n",
    "\n"
   ]
  },
  {
   "cell_type": "code",
   "execution_count": 6,
   "metadata": {},
   "outputs": [],
   "source": [
    "######################################################################\n",
    "# functions\n",
    "######################################################################\n",
    "# to see if trasition out of bound\n",
    "def check(state, next_state):\n",
    "    if next_state < 0 or next_state > 99:\n",
    "        return False\n",
    "    elif state % 10 == 9 and next_state % 10 == 0:\n",
    "        return False\n",
    "    elif state % 10 == 0 and next_state % 10 == 9:\n",
    "        return False\n",
    "    return True"
   ]
  },
  {
   "cell_type": "code",
   "execution_count": 7,
   "metadata": {},
   "outputs": [],
   "source": [
    "def tran_matrix(A):\n",
    "    P_ss_a = np.zeros((100, 100, 4))\n",
    "    P_ss_a = P_ss_a.astype(float)\n",
    "\n",
    "    # for non-boundary state\n",
    "    w = 0.1\n",
    "    for a in range(4):\n",
    "        for i in range(1, 9):\n",
    "            for j in range(1, 9):\n",
    "                for action in range(4):\n",
    "                    state = i * 10 + j\n",
    "                    next_state = (i + A[action][0]) * 10 + j + A[action][1]\n",
    "                    P_ss_a[state, next_state, a] = (1 - (3 * w) / 4) if (action == a) else (w / 4)\n",
    "\n",
    "        # for corner state\n",
    "        for i in [0, 9]:\n",
    "            for j in [0, 9]:\n",
    "                for action in range(4):\n",
    "                    state = i * 10 + j\n",
    "                    next_state = (i + A[action][0]) * 10 + j + A[action][1]\n",
    "                    if check(state, next_state):\n",
    "                        P_ss_a[state, next_state, a] = (1 - (3 * w) / 4) if (action == a) else (w / 4)\n",
    "                    else:\n",
    "                        P_ss_a[state, state, a] += (1 - (3 * w) / 4) if (action == a) else (w / 4)\n",
    "\n",
    "        # for edge state\n",
    "        for i in [0, 9]:\n",
    "            for j in range(1, 9):\n",
    "                for action in range(4):\n",
    "                    state = i * 10 + j\n",
    "                    next_state = (i + A[action][0]) * 10 + j + A[action][1]\n",
    "                    if check(state, next_state):\n",
    "                        P_ss_a[state, next_state, a] = (1 - (3 * w) / 4) if (action == a) else (w / 4)\n",
    "                    else:\n",
    "                        P_ss_a[state, state, a] = (1 - (3 * w) / 4) if (action == a) else (w / 4)\n",
    "        for i in range(1, 9):\n",
    "            for j in [0, 9]:\n",
    "                for action in range(4):\n",
    "                    state = i * 10 + j\n",
    "                    next_state = (i + A[action][0]) * 10 + j + A[action][1]\n",
    "                    if check(state, next_state):\n",
    "                        P_ss_a[state, next_state, a] = (1 - (3 * w) / 4) if (action == a) else (w / 4)\n",
    "                    else:\n",
    "                        P_ss_a[state, state, a] = (1 - (3 * w) / 4) if (action == a) else (w / 4)\n",
    "\n",
    "    return P_ss_a\n"
   ]
  },
  {
   "cell_type": "code",
   "execution_count": 8,
   "metadata": {},
   "outputs": [],
   "source": [
    "def heatmap_plot(reward_function):\n",
    "    \"\"\"\n",
    "    plot reward_function's heatmap\n",
    "    :param reward_function: np.array\n",
    "    :return: heatmap of the reward_function\n",
    "    \"\"\"\n",
    "    heatmap = sns.heatmap(reward_function, cmap=\"PuBu\")\n",
    "    plt.show()\n"
   ]
  },
  {
   "cell_type": "code",
   "execution_count": 9,
   "metadata": {},
   "outputs": [],
   "source": [
    "def gridmap_plot(map, type):\n",
    "    \"\"\"\n",
    "    give a 2d gridmap of state value or policy map\n",
    "    :param map: map of state value or policy\n",
    "    :param type: boolean. If true, plot value graph, if false, plot direction graph\n",
    "    :return: a grid map\n",
    "    \"\"\"\n",
    "    plt.figure()\n",
    "    if(type):\n",
    "        row = map.shape[0]\n",
    "        column = map.shape[1]\n",
    "        table = plt.table(cellText=np.around(map, decimals=2), loc=(0, 0), cellLoc='center')\n",
    "    else:\n",
    "        row = len(map)\n",
    "        column = len(map[0])\n",
    "        table = plt.table(cellText=map, loc=(0, 0), cellLoc='center')\n",
    "    gridmap = table.properties()['child_artists']\n",
    "    for cell in gridmap:\n",
    "        cell.set_height(1 / 10.0)\n",
    "        cell.set_width(1 / 10.0)\n",
    "    ax = plt.gca()\n",
    "    ax.set_xticks([])\n",
    "    ax.set_yticks([])\n",
    "    plt.show()"
   ]
  },
  {
   "cell_type": "code",
   "execution_count": 10,
   "metadata": {},
   "outputs": [],
   "source": [
    "def estimation_summation(w, reward_function, discount_factor, row, column, state_map):\n",
    "    \"\"\"\n",
    "    compute the max value of different action taken at each state\n",
    "    :param w: double\n",
    "    :param reward_function: np.array\n",
    "    :param discount_factor: double\n",
    "    :param row: int\n",
    "    :param column: int\n",
    "    :param state_map: np.array\n",
    "    :return: updated state and action\n",
    "    \"\"\"\n",
    "    up_summation = 0\n",
    "    down_summation = 0\n",
    "    left_summation = 0\n",
    "    right_summation = 0\n",
    "\n",
    "    if(row==0 and column==0):\n",
    "        up_summation = 0.25*w*(reward_function[row][column+1]+discount_factor*state_map[row][column+1])\\\n",
    "                       +0.25*w*(reward_function[row+1][column]+discount_factor*state_map[row+1][column])\\\n",
    "                       +(1-0.5*w)*(reward_function[row][column]+discount_factor*state_map[row][column])\n",
    "        down_summation = 0.25*w*(reward_function[row][column+1]+discount_factor*state_map[row][column+1])\\\n",
    "                         +(1-0.75*w)*(reward_function[row+1][column]+discount_factor*state_map[row+1][column])\\\n",
    "                         +0.5*w*(reward_function[row][column]+discount_factor*state_map[row][column])\n",
    "        left_summation = 0.25*w*(reward_function[row][column+1]+discount_factor*state_map[row][column+1])\\\n",
    "                         +0.25*w*(reward_function[row+1][column]+discount_factor*state_map[row+1][column])\\\n",
    "                         +(1-0.5*w)*(reward_function[row][column]+discount_factor*state_map[row][column])\n",
    "        right_summation = (1-0.75*w)*(reward_function[row][column+1]+discount_factor*state_map[row][column+1])\\\n",
    "                          +0.25*w*(reward_function[row+1][column]+discount_factor*state_map[row+1][column])\\\n",
    "                          +0.5*w*(reward_function[row][column]+discount_factor*state_map[row][column])\n",
    "\n",
    "    elif(row==0 and column==9):\n",
    "        up_summation = 0.25*w*(reward_function[row][column-1]+discount_factor*state_map[row][column-1])\\\n",
    "                       +0.25*w*(reward_function[row+1][column]+discount_factor*state_map[row+1][column])\\\n",
    "                       +(1-0.5*w)*(reward_function[row][column]+discount_factor*state_map[row][column])\n",
    "        down_summation = 0.25*w*(reward_function[row][column-1]+discount_factor*state_map[row][column-1])\\\n",
    "                         +(1-0.75*w)*(reward_function[row+1][column]+discount_factor*state_map[row+1][column])\\\n",
    "                         +0.5*w*(reward_function[row][column]+discount_factor*state_map[row][column])\n",
    "        left_summation = (1-0.75*w)*(reward_function[row][column-1]+discount_factor*state_map[row][column-1])\\\n",
    "                         +0.25*w*(reward_function[row+1][column]+discount_factor*state_map[row+1][column])\\\n",
    "                         +0.5*w*(reward_function[row][column]+discount_factor*state_map[row][column])\n",
    "        right_summation = 0.25*w*(reward_function[row][column-1]+discount_factor*state_map[row][column-1])\\\n",
    "                         +0.25*w*(reward_function[row+1][column]+discount_factor*state_map[row+1][column])\\\n",
    "                         +(1-0.5*w)*(reward_function[row][column]+discount_factor*state_map[row][column])\n",
    "\n",
    "\n",
    "    elif(row==9 and column==0):\n",
    "        up_summation = (1-0.75*w)*(reward_function[row-1][column]+discount_factor*state_map[row-1][column])\\\n",
    "                       +0.25*w*(reward_function[row][column+1]+discount_factor*state_map[row][column+1])\\\n",
    "                       +0.5*w*(reward_function[row][column]+discount_factor*state_map[row][column])\n",
    "        down_summation = 0.25*w*(reward_function[row-1][column]+discount_factor*state_map[row-1][column])\\\n",
    "                         +0.25*w*(reward_function[row][column+1]+discount_factor*state_map[row][column+1])\\\n",
    "                         +(1-0.5*w)*(reward_function[row][column]+discount_factor*state_map[row][column])\n",
    "        left_summation = 0.25*w*(reward_function[row-1][column]+discount_factor*state_map[row-1][column])\\\n",
    "                         +0.25*w*(reward_function[row][column+1]+discount_factor*state_map[row][column+1])\\\n",
    "                         +(1-0.5*w)*(reward_function[row][column]+discount_factor*state_map[row][column])\n",
    "        right_summation = 0.25*w*(reward_function[row-1][column]+discount_factor*state_map[row-1][column])\\\n",
    "                         +(1-0.75*w)*(reward_function[row][column+1]+discount_factor*state_map[row][column+1])\\\n",
    "                         +0.5*w*(reward_function[row][column]+discount_factor*state_map[row][column])\n",
    "\n",
    "    elif(row==9 and column==9):\n",
    "        up_summation = (1-0.75*w)*(reward_function[row-1][column]+discount_factor*state_map[row-1][column])\\\n",
    "                       +0.25*w*(reward_function[row][column-1]+discount_factor*state_map[row][column-1])\\\n",
    "                       +0.5*w*(reward_function[row][column]+discount_factor*state_map[row][column])\n",
    "        down_summation = 0.25*w*(reward_function[row-1][column]+discount_factor*state_map[row-1][column])\\\n",
    "                         +0.25*w*(reward_function[row][column-1]+discount_factor*state_map[row][column-1])\\\n",
    "                         +(1-0.5*w)*(reward_function[row][column]+discount_factor*state_map[row][column])\n",
    "        left_summation = 0.25*w*(reward_function[row-1][column]+discount_factor*state_map[row-1][column])\\\n",
    "                         +(1-0.75*w)*(reward_function[row][column-1]+discount_factor*state_map[row][column-1])\\\n",
    "                         +0.5*w*(reward_function[row][column]+discount_factor*state_map[row][column])\n",
    "        right_summation = 0.25*w*(reward_function[row-1][column]+discount_factor*state_map[row-1][column])\\\n",
    "                         +0.25*w*(reward_function[row][column-1]+discount_factor*state_map[row][column-1])\\\n",
    "                         +(1-0.5*w)*(reward_function[row][column]+discount_factor*state_map[row][column])\n",
    "\n",
    "    elif(row==0 and column>0 and column<9):\n",
    "        up_summation = (1-0.75*w)*(reward_function[row][column]+discount_factor*state_map[row][column])\\\n",
    "                       +0.25*w*(reward_function[row+1][column]+discount_factor*state_map[row+1][column])\\\n",
    "                       +0.25*w*(reward_function[row][column-1]+discount_factor*state_map[row][column-1])\\\n",
    "                       +0.25*w*(reward_function[row][column+1]+discount_factor*state_map[row][column+1])\n",
    "        down_summation = 0.25*w*(reward_function[row][column]+discount_factor*state_map[row][column])\\\n",
    "                       +(1-0.75*w)*(reward_function[row+1][column]+discount_factor*state_map[row+1][column])\\\n",
    "                       +0.25*w*(reward_function[row][column-1]+discount_factor*state_map[row][column-1])\\\n",
    "                       +0.25*w*(reward_function[row][column+1]+discount_factor*state_map[row][column+1])\n",
    "        left_summation = 0.25*w*(reward_function[row][column]+discount_factor*state_map[row][column])\\\n",
    "                       +0.25*w*(reward_function[row+1][column]+discount_factor*state_map[row+1][column])\\\n",
    "                       +(1-0.75*w)*(reward_function[row][column-1]+discount_factor*state_map[row][column-1])\\\n",
    "                       +0.25*w*(reward_function[row][column+1]+discount_factor*state_map[row][column+1])\n",
    "        right_summation = 0.25*w*(reward_function[row][column]+discount_factor*state_map[row][column])\\\n",
    "                       +0.25*w*(reward_function[row+1][column]+discount_factor*state_map[row+1][column])\\\n",
    "                       +0.25*w*(reward_function[row][column-1]+discount_factor*state_map[row][column-1])\\\n",
    "                       +(1-0.75*w)*(reward_function[row][column+1]+discount_factor*state_map[row][column+1])\n",
    "\n",
    "    elif(column==0 and row>0 and row<9):\n",
    "        up_summation = (1-0.75*w)*(reward_function[row-1][column]+discount_factor*state_map[row-1][column])\\\n",
    "                       +0.25*w*(reward_function[row+1][column]+discount_factor*state_map[row+1][column])\\\n",
    "                       +0.25*w*(reward_function[row][column]+discount_factor*state_map[row][column])\\\n",
    "                       +0.25*w*(reward_function[row][column+1]+discount_factor*state_map[row][column+1])\n",
    "        down_summation = 0.25*w*(reward_function[row-1][column]+discount_factor*state_map[row-1][column])\\\n",
    "                       +(1-0.75*w)*(reward_function[row+1][column]+discount_factor*state_map[row+1][column])\\\n",
    "                       +0.25*w*(reward_function[row][column]+discount_factor*state_map[row][column])\\\n",
    "                       +0.25*w*(reward_function[row][column+1]+discount_factor*state_map[row][column+1])\n",
    "        left_summation = 0.25*w*(reward_function[row-1][column]+discount_factor*state_map[row-1][column])\\\n",
    "                       +0.25*w*(reward_function[row+1][column]+discount_factor*state_map[row+1][column])\\\n",
    "                       +(1-0.75*w)*(reward_function[row][column]+discount_factor*state_map[row][column])\\\n",
    "                       +0.25*w*(reward_function[row][column+1]+discount_factor*state_map[row][column+1])\n",
    "        right_summation = 0.25*w*(reward_function[row-1][column]+discount_factor*state_map[row-1][column])\\\n",
    "                       +0.25*w*(reward_function[row+1][column]+discount_factor*state_map[row+1][column])\\\n",
    "                       +0.25*w*(reward_function[row][column]+discount_factor*state_map[row][column])\\\n",
    "                       +(1-0.75*w)*(reward_function[row][column+1]+discount_factor*state_map[row][column+1])\n",
    "\n",
    "    elif(row==9 and column>0 and column<9):\n",
    "        up_summation = (1-0.75*w)*(reward_function[row-1][column]+discount_factor*state_map[row-1][column])\\\n",
    "                       +0.25*w*(reward_function[row][column]+discount_factor*state_map[row][column])\\\n",
    "                       +0.25*w*(reward_function[row][column-1]+discount_factor*state_map[row][column-1])\\\n",
    "                       +0.25*w*(reward_function[row][column+1]+discount_factor*state_map[row][column+1])\n",
    "        down_summation = 0.25*w*(reward_function[row-1][column]+discount_factor*state_map[row-1][column])\\\n",
    "                       +(1-0.75*w)*(reward_function[row][column]+discount_factor*state_map[row][column])\\\n",
    "                       +0.25*w*(reward_function[row][column-1]+discount_factor*state_map[row][column-1])\\\n",
    "                       +0.25*w*(reward_function[row][column+1]+discount_factor*state_map[row][column+1])\n",
    "        left_summation = 0.25*w*(reward_function[row-1][column]+discount_factor*state_map[row-1][column])\\\n",
    "                       +0.25*w*(reward_function[row][column]+discount_factor*state_map[row][column])\\\n",
    "                       +(1-0.75*w)*(reward_function[row][column-1]+discount_factor*state_map[row][column-1])\\\n",
    "                       +0.25*w*(reward_function[row][column+1]+discount_factor*state_map[row][column+1])\n",
    "        right_summation = 0.25*w*(reward_function[row-1][column]+discount_factor*state_map[row-1][column])\\\n",
    "                       +0.25*w*(reward_function[row][column]+discount_factor*state_map[row][column])\\\n",
    "                       +0.25*w*(reward_function[row][column-1]+discount_factor*state_map[row][column-1])\\\n",
    "                       +(1-0.75*w)*(reward_function[row][column+1]+discount_factor*state_map[row][column+1])\n",
    "\n",
    "    elif(column==9 and row>0 and row<9):\n",
    "        up_summation = (1-0.75*w)*(reward_function[row-1][column]+discount_factor*state_map[row-1][column])\\\n",
    "                       +0.25*w*(reward_function[row+1][column]+discount_factor*state_map[row+1][column])\\\n",
    "                       +0.25*w*(reward_function[row][column-1]+discount_factor*state_map[row][column-1])\\\n",
    "                       +0.25*w*(reward_function[row][column]+discount_factor*state_map[row][column])\n",
    "        down_summation = 0.25*w*(reward_function[row-1][column]+discount_factor*state_map[row-1][column])\\\n",
    "                       +(1-0.75*w)*(reward_function[row+1][column]+discount_factor*state_map[row+1][column])\\\n",
    "                       +0.25*w*(reward_function[row][column-1]+discount_factor*state_map[row][column-1])\\\n",
    "                       +0.25*w*(reward_function[row][column]+discount_factor*state_map[row][column])\n",
    "        left_summation = 0.25*w*(reward_function[row-1][column]+discount_factor*state_map[row-1][column])\\\n",
    "                       +0.25*w*(reward_function[row+1][column]+discount_factor*state_map[row+1][column])\\\n",
    "                       +(1-0.75*w)*(reward_function[row][column-1]+discount_factor*state_map[row][column-1])\\\n",
    "                       +0.25*w*(reward_function[row][column]+discount_factor*state_map[row][column])\n",
    "        right_summation = 0.25*w*(reward_function[row-1][column]+discount_factor*state_map[row-1][column])\\\n",
    "                       +0.25*w*(reward_function[row+1][column]+discount_factor*state_map[row+1][column])\\\n",
    "                       +0.25*w*(reward_function[row][column-1]+discount_factor*state_map[row][column-1])\\\n",
    "                       +(1-0.75*w)*(reward_function[row][column]+discount_factor*state_map[row][column])\n",
    "\n",
    "    else:\n",
    "        up_summation = (1-0.75*w)*(reward_function[row-1][column]+discount_factor*state_map[row-1][column])\\\n",
    "                       +0.25*w*(reward_function[row+1][column]+discount_factor*state_map[row+1][column])\\\n",
    "                       +0.25*w*(reward_function[row][column-1]+discount_factor*state_map[row][column-1])\\\n",
    "                       +0.25*w*(reward_function[row][column+1]+discount_factor*state_map[row][column+1])\n",
    "        down_summation = 0.25*w*(reward_function[row-1][column]+discount_factor*state_map[row-1][column])\\\n",
    "                       +(1-0.75*w)*(reward_function[row+1][column]+discount_factor*state_map[row+1][column])\\\n",
    "                       +0.25*w*(reward_function[row][column-1]+discount_factor*state_map[row][column-1])\\\n",
    "                       +0.25*w*(reward_function[row][column+1]+discount_factor*state_map[row][column+1])\n",
    "        left_summation = 0.25*w*(reward_function[row-1][column]+discount_factor*state_map[row-1][column])\\\n",
    "                       +0.25*w*(reward_function[row+1][column]+discount_factor*state_map[row+1][column])\\\n",
    "                       +(1-0.75*w)*(reward_function[row][column-1]+discount_factor*state_map[row][column-1])\\\n",
    "                       +0.25*w*(reward_function[row][column+1]+discount_factor*state_map[row][column+1])\n",
    "        right_summation = 0.25*w*(reward_function[row-1][column]+discount_factor*state_map[row-1][column])\\\n",
    "                       +0.25*w*(reward_function[row+1][column]+discount_factor*state_map[row+1][column])\\\n",
    "                       +0.25*w*(reward_function[row][column-1]+discount_factor*state_map[row][column-1])\\\n",
    "                       +(1-0.75*w)*(reward_function[row][column+1]+discount_factor*state_map[row][column+1])\n",
    "    summations = [up_summation, down_summation, left_summation, right_summation]\n",
    "    return max(summations), summations.index(max(summations))\n"
   ]
  },
  {
   "cell_type": "code",
   "execution_count": 11,
   "metadata": {},
   "outputs": [],
   "source": [
    "def optimal_state_value(w, reward_function, number_of_states, discount_factor, epsilon):\n",
    "    \"\"\"\n",
    "    taking environment variables and output the optimal state values\n",
    "    :param w: double\n",
    "    :param reward_function: np.array\n",
    "    :param number_of_states: np.array\n",
    "    :param actions: dictionary\n",
    "    :param discount_factor: double\n",
    "    :param epsilon: stopping criterion\n",
    "    :return:optimal values of state map\n",
    "    \"\"\"\n",
    "    rows = int(math.sqrt(number_of_states))\n",
    "    columns = int(math.sqrt(number_of_states))\n",
    "    state_map = np.zeros((rows, columns))\n",
    "\n",
    "    delta = 10000000\n",
    "    i = 0\n",
    "    while delta > epsilon and i<1000:\n",
    "        delta = 0\n",
    "        i = i+1\n",
    "        for row in range(rows):\n",
    "            for column in range(columns):\n",
    "                value = state_map[row][column]\n",
    "                state_map[row][column], action = estimation_summation(w, reward_function, discount_factor, row, column, state_map)\n",
    "                delta = max(delta, abs(value-state_map[row][column]))\n",
    "    return state_map"
   ]
  },
  {
   "cell_type": "code",
   "execution_count": 12,
   "metadata": {},
   "outputs": [],
   "source": [
    "def convertArrowToNumber(policy):\n",
    "    [rows, cols] = policy.shape\n",
    "    policyTemp=np.zeros((rows, cols))\n",
    "    for i in range(rows - 1):\n",
    "        for j in range(cols - 1):\n",
    "            if(policy[i][j]==u'↑'):\n",
    "                policyTemp[i][j]=int(2)\n",
    "            if (policy[i][j] == u'↓'):\n",
    "                policyTemp[i][j] = int(3)\n",
    "            if (policy[i][j] == u'←'):\n",
    "                policyTemp[i][j] = int(0)\n",
    "            if (policy[i][j] == u'→'):\n",
    "                policyTemp[i][j] = int(1)\n",
    "    return policyTemp.astype(int)"
   ]
  },
  {
   "cell_type": "code",
   "execution_count": 39,
   "metadata": {},
   "outputs": [],
   "source": [
    "# computatation step, with output of arrows\n",
    "def computation(w, reward_function, number_of_states, discount_factor, state_map):\n",
    "    \"\"\"\n",
    "    computation step, find the optimal policy\n",
    "    :param w: double\n",
    "    :param reward_function: np.array\n",
    "    :param number_of_states: int\n",
    "    :param discount_factor: double\n",
    "    :param state_map: np.array\n",
    "    :return: optimal policy of each state\n",
    "    \"\"\"\n",
    "    arrowlist = [u'↑', u'↓', u'←',  u'→']\n",
    "    rows = int(math.sqrt(number_of_states))\n",
    "    columns = int(math.sqrt(number_of_states))\n",
    "    policy = []\n",
    "\n",
    "    for row in range(rows):\n",
    "        policy.append([])\n",
    "        for column in range(columns):\n",
    "            value, action = estimation_summation(w, reward_function, discount_factor, row, column, state_map)\n",
    "            policy[row].append(arrowlist[action])\n",
    "    return policy\n"
   ]
  },
  {
   "cell_type": "code",
   "execution_count": 14,
   "metadata": {},
   "outputs": [],
   "source": [
    "# new computation function that can output number directely\n",
    "def computation2(w, reward_function, number_of_states, discount_factor, state_map):\n",
    "    \"\"\"\n",
    "    computation step, find the optimal policy\n",
    "    :param w: double\n",
    "    :param reward_function: np.array\n",
    "    :param number_of_states: int\n",
    "    :param discount_factor: double\n",
    "    :param state_map: np.array\n",
    "    :return: optimal policy of each state\n",
    "    \"\"\"\n",
    "\n",
    "    rows = int(math.sqrt(number_of_states))\n",
    "    columns = int(math.sqrt(number_of_states))\n",
    "    policy = []\n",
    "\n",
    "    for row in range(rows):\n",
    "        policy.append([])\n",
    "        for column in range(columns):\n",
    "            value, action = estimation_summation(w, reward_function, discount_factor, row, column, state_map)\n",
    "            if action == 0:\n",
    "                action = 2\n",
    "            elif action == 1:\n",
    "                action = 3\n",
    "            elif action == 2:\n",
    "                action = 0\n",
    "            elif action == 3:\n",
    "                action = 1\n",
    "            policy[row].append(action)\n",
    "    policy = np.array(policy)\n",
    "    policy = policy.ravel(order = 'F')\n",
    "    return policy\n"
   ]
  },
  {
   "cell_type": "code",
   "execution_count": 101,
   "metadata": {},
   "outputs": [
    {
     "data": {
      "image/png": "[encoded data removed]",
      "text/plain": [
       "<matplotlib.figure.Figure at 0x1a1e185710>"
      ]
     },
     "metadata": {},
     "output_type": "display_data"
    },
    {
     "data": {
      "image/png": "[encoded data removed]",
      "text/plain": [
       "<matplotlib.figure.Figure at 0x1a1e090240>"
      ]
     },
     "metadata": {},
     "output_type": "display_data"
    }
   ],
   "source": [
    "# question 1\n",
    "heatmap_plot(reward_function1);\n",
    "heatmap_plot(reward_function2);"
   ]
  },
  {
   "cell_type": "code",
   "execution_count": 102,
   "metadata": {},
   "outputs": [
    {
     "data": {
      "image/png": "[encoded data removed]",
      "text/plain": [
       "<matplotlib.figure.Figure at 0x1a1e09b470>"
      ]
     },
     "metadata": {},
     "output_type": "display_data"
    }
   ],
   "source": [
    "# question 2\n",
    "state_value_func_1 = optimal_state_value(w=w, reward_function=reward_function1, number_of_states=100, discount_factor=discount_factor, epsilon=0.01);\n",
    "# print(state_map)\n",
    "gridmap_plot(map=state_value_func_1, type=True);"
   ]
  },
  {
   "cell_type": "code",
   "execution_count": 103,
   "metadata": {},
   "outputs": [
    {
     "data": {
      "image/png": "[encoded data removed]",
      "text/plain": [
       "<matplotlib.figure.Figure at 0x1a1cee4cf8>"
      ]
     },
     "metadata": {},
     "output_type": "display_data"
    }
   ],
   "source": [
    "# question 3\n",
    "heatmap_plot(state_value_func_1);"
   ]
  },
  {
   "cell_type": "code",
   "execution_count": 104,
   "metadata": {},
   "outputs": [
    {
     "data": {
      "image/png": "[encoded data removed]",
      "text/plain": [
       "<matplotlib.figure.Figure at 0x1a1c7d4ac8>"
      ]
     },
     "metadata": {},
     "output_type": "display_data"
    }
   ],
   "source": [
    "# question 5\n",
    "opt_policy_1 = computation(w=w, reward_function=reward_function1, number_of_states=100, discount_factor=discount_factor, state_map=state_value_func_1);\n",
    "gridmap_plot(map=opt_policy_1, type=False)"
   ]
  },
  {
   "cell_type": "code",
   "execution_count": 105,
   "metadata": {},
   "outputs": [
    {
     "data": {
      "image/png": "[encoded data removed]",
      "text/plain": [
       "<matplotlib.figure.Figure at 0x1a1d9c4c18>"
      ]
     },
     "metadata": {},
     "output_type": "display_data"
    }
   ],
   "source": [
    "# question 6\n",
    "state_value_func_2 = optimal_state_value(w=w, reward_function=reward_function2, number_of_states=100, discount_factor=discount_factor, epsilon=0.01);\n",
    "# print(state_map)\n",
    "gridmap_plot(map=state_value_func_2, type=True);"
   ]
  },
  {
   "cell_type": "code",
   "execution_count": 106,
   "metadata": {},
   "outputs": [
    {
     "data": {
      "image/png": "[encoded data removed]",
      "text/plain": [
       "<matplotlib.figure.Figure at 0x10a1fd630>"
      ]
     },
     "metadata": {},
     "output_type": "display_data"
    }
   ],
   "source": [
    "# question 7\n",
    "heatmap_plot(state_value_func_2);"
   ]
  },
  {
   "cell_type": "code",
   "execution_count": 107,
   "metadata": {},
   "outputs": [
    {
     "data": {
      "image/png": "[encoded data removed]",
      "text/plain": [
       "<matplotlib.figure.Figure at 0x1a1eafb5c0>"
      ]
     },
     "metadata": {},
     "output_type": "display_data"
    }
   ],
   "source": [
    "# question 9\n",
    "opt_policy_2 = computation(w=w, reward_function=reward_function2, number_of_states=100, discount_factor=discount_factor, state_map=state_value_func_2);\n",
    "gridmap_plot(map=opt_policy_2, type=False)"
   ]
  },
  {
   "cell_type": "markdown",
   "metadata": {},
   "source": [
    "### Part 2: Inverse Reinforcement Learning"
   ]
  },
  {
   "cell_type": "code",
   "execution_count": 45,
   "metadata": {},
   "outputs": [],
   "source": [
    "\"\"\"\n",
    "IRL Function parameters:\n",
    "\n",
    "n_states: Number of states. int.\n",
    "n_actions: Number of actions. int.\n",
    "transition_probability: Shape (A, N, N).\n",
    "policy: Containing the best action in each state. Shape (N,).\n",
    "Rmax: Maximum reward. float.\n",
    "lamb: l1 regularisation. float.\n",
    "\"\"\"\n",
    "def IRL(n_states, n_actions, transition_probability, policy, discount, Rmax, lamb):\n",
    "    A = set(range(n_actions))\n",
    "\n",
    "    # Define the function that we always use in this problem\n",
    "    def T(a, s):\n",
    "        t1 = transition_probability[policy[s], s] - transition_probability[a, s]\n",
    "        t2 = np.linalg.inv(np.eye(n_states) - discount * transition_probability[policy[s]])\n",
    "        return np.dot(t1, t2)\n",
    "\n",
    "    # creat c as we get in Q10\n",
    "    c = -np.hstack([np.zeros(n_states), np.ones(n_states), -lamb * np.ones(n_states)])\n",
    "\n",
    "    # creat D as we get in Q10\n",
    "    # creat each block in D\n",
    "    T_stack = np.vstack([\n",
    "        -T(a, s)\n",
    "        for s in range(n_states)\n",
    "        for a in A - {policy[s]}\n",
    "    ])\n",
    "\n",
    "    I_stack1 = np.vstack([\n",
    "        np.eye(1, n_states, s)\n",
    "        for s in range(n_states)\n",
    "        for a in A - {policy[s]}\n",
    "    ])\n",
    "\n",
    "    zero_stack1 = np.zeros((n_states * (n_actions - 1), n_states))\n",
    "\n",
    "    I_stack2 = np.identity(n_states)\n",
    "\n",
    "    zero_stack2 = np.zeros((n_states, n_states))\n",
    "\n",
    "    # construct these blocks by Q10\n",
    "    D_1 = np.vstack([T_stack, T_stack, -I_stack2, I_stack2])\n",
    "    D_2 = np.vstack([I_stack1, zero_stack1, zero_stack2, zero_stack2])\n",
    "    D_3 = np.vstack([zero_stack1, zero_stack1, -I_stack2, -I_stack2])\n",
    "\n",
    "    D = np.hstack([D_1, D_2, D_3])\n",
    "\n",
    "    # add Rm block\n",
    "    D_bounds1 = np.vstack([-np.identity(n_states), np.identity(n_states)])\n",
    "    D_bounds2 = np.vstack([np.zeros((n_states, n_states)), np.zeros((n_states, n_states))])\n",
    "    D_bounds = np.hstack([D_bounds1, D_bounds2, D_bounds2])\n",
    "\n",
    "    # get D\n",
    "    D = np.vstack((D, D_bounds))\n",
    "\n",
    "    # creat b as we get in Q10\n",
    "    b = np.zeros((n_states * (n_actions - 1) * 2 + 2 * n_states, 1))\n",
    "    b_bounds = np.vstack([Rmax * np.ones((n_states, 1))] * 2)\n",
    "    b = np.vstack((b, b_bounds))\n",
    "\n",
    "    D = matrix(D)\n",
    "    b = matrix(b)\n",
    "    c = matrix(c)\n",
    "    solvers.options['show_progress'] = False\n",
    "    results = solvers.lp(c, D, b)\n",
    "    \n",
    "\n",
    "    r = np.asarray(results[\"x\"][:n_states], dtype=np.double)\n",
    "\n",
    "    return r.reshape((10, 10)).T\n"
   ]
  },
  {
   "cell_type": "code",
   "execution_count": 46,
   "metadata": {},
   "outputs": [],
   "source": [
    "'''\n",
    "des: q11\n",
    "param: reward_function,shape = 10*10 \n",
    "return: list Accuracy with 500 entries associated with 500 lambda range from 0 to 5\n",
    "'''\n",
    "def getAccuracy(reward_function):\n",
    "    state_map = optimal_state_value(w=w, reward_function=reward_function, number_of_states=100,\n",
    "                                    discount_factor=discount_factor, epsilon=0.01);\n",
    "    policy = computation2(w=w, reward_function=reward_function, number_of_states=100, discount_factor=discount_factor,\n",
    "                          state_map=state_map);\n",
    "\n",
    "    accuracy = []\n",
    "    P_ss_a = tran_matrix(A)\n",
    "    P_ss_a = np.transpose(P_ss_a, (2, 0, 1))\n",
    "    h = np.zeros((100, 100, 4))\n",
    "    i = 0;\n",
    "\n",
    "    for lam in np.arange(0, 5, 0.01):\n",
    "        rewardTemp = IRL(100, 4, P_ss_a, policy, discount_factor, reward_function.max(), lam)\n",
    "        state_mapTemp = optimal_state_value(w=w, reward_function=rewardTemp, number_of_states=100,\n",
    "                                            discount_factor=discount_factor, epsilon=0.01);\n",
    "        policyTemp = computation2(w=w, reward_function=rewardTemp, number_of_states=100,\n",
    "                                  discount_factor=discount_factor,\n",
    "                                  state_map=state_mapTemp);\n",
    "        count = 0\n",
    "        for i in range(100):\n",
    "            if policy[i] == policyTemp[i]:\n",
    "                count += 1\n",
    "        accuracy.append(count / number_of_states)\n",
    "    return accuracy\n"
   ]
  },
  {
   "cell_type": "code",
   "execution_count": 47,
   "metadata": {},
   "outputs": [
    {
     "data": {
      "image/png": "[encoded data removed]",
      "text/plain": [
       "<matplotlib.figure.Figure at 0x1a1e982240>"
      ]
     },
     "metadata": {},
     "output_type": "display_data"
    }
   ],
   "source": [
    "# question 11\n",
    "x = np.arange(0, 5, 0.01)\n",
    "accu=getAccuracy(reward_function1)\n",
    "plt.plot(x, accu, 'r')\n",
    "plt.xlabel('lambda')\n",
    "plt.ylabel('accuracy')\n",
    "plt.show()"
   ]
  },
  {
   "cell_type": "code",
   "execution_count": 60,
   "metadata": {},
   "outputs": [
    {
     "name": "stdout",
     "output_type": "stream",
     "text": [
      "Maximum accuracy: 0.79\n",
      "Lambda_max_1 = 1.51\n"
     ]
    }
   ],
   "source": [
    "# Q12\n",
    "max_accu_1 = max(accu)\n",
    "print('Maximum accuracy:',max_accu_1)\n",
    "max_position = accu.index(max_accu_1)\n",
    "lambda_max_1 = max_position*0.01\n",
    "print('Lambda_max_1 =',lambda_max_1)"
   ]
  },
  {
   "cell_type": "code",
   "execution_count": 108,
   "metadata": {},
   "outputs": [
    {
     "data": {
      "image/png": "[encoded data removed]",
      "text/plain": [
       "<matplotlib.figure.Figure at 0x1a1daddcf8>"
      ]
     },
     "metadata": {},
     "output_type": "display_data"
    },
    {
     "data": {
      "image/png": "[encoded data removed]",
      "text/plain": [
       "<matplotlib.figure.Figure at 0x1a1c6145f8>"
      ]
     },
     "metadata": {},
     "output_type": "display_data"
    }
   ],
   "source": [
    "# Q13\n",
    "# Ground truth reward: Reward function 1\n",
    "heatmap_plot(reward_function1);\n",
    "# Extracted reward is computed by solving the linear program with lambda_max_1\n",
    "P_ss_a = tran_matrix(A)\n",
    "P_ss_a = np.transpose(P_ss_a, (2, 0, 1))\n",
    "\n",
    "opt_policy_value_1 = computation2(w=w, reward_function=reward_function1, number_of_states=100, discount_factor=discount_factor,\n",
    "                          state_map=state_value_func_1);\n",
    "extracted_reward_1 = IRL(100, 4, P_ss_a, opt_policy_value_1, discount_factor, reward_function1.max(), lambda_max_1)\n",
    "heatmap_plot(extracted_reward_1);"
   ]
  },
  {
   "cell_type": "code",
   "execution_count": 109,
   "metadata": {},
   "outputs": [
    {
     "data": {
      "image/png": "[encoded data removed]",
      "text/plain": [
       "<matplotlib.figure.Figure at 0x1a1c614c18>"
      ]
     },
     "metadata": {},
     "output_type": "display_data"
    }
   ],
   "source": [
    "# Q14\n",
    "opt_state_value_func_extracted_1 = optimal_state_value(w, extracted_reward_1, number_of_states, discount_factor, epsilon=0.01)\n",
    "heatmap_plot(opt_state_value_func_extracted_1)"
   ]
  },
  {
   "cell_type": "code",
   "execution_count": 110,
   "metadata": {},
   "outputs": [
    {
     "data": {
      "image/png": "[encoded data removed]",
      "text/plain": [
       "<matplotlib.figure.Figure at 0x1a1e01ca90>"
      ]
     },
     "metadata": {},
     "output_type": "display_data"
    }
   ],
   "source": [
    "# Q16 \n",
    "opt_policy_extracted_1 = computation(w=w, reward_function=extracted_reward_1, number_of_states=100, discount_factor=discount_factor, state_map=opt_state_value_func_extracted_1);\n",
    "gridmap_plot(map=opt_policy_extracted_1, type=False)"
   ]
  },
  {
   "cell_type": "code",
   "execution_count": 71,
   "metadata": {},
   "outputs": [
    {
     "data": {
      "image/png": "[encoded data removed]",
      "text/plain": [
       "<matplotlib.figure.Figure at 0x1a1e1c77b8>"
      ]
     },
     "metadata": {},
     "output_type": "display_data"
    }
   ],
   "source": [
    "# Q18\n",
    "x = np.arange(0, 5, 0.01)\n",
    "accu_2=getAccuracy(reward_function2)\n",
    "plt.plot(x, accu_2, 'r')\n",
    "plt.xlabel('lambda')\n",
    "plt.ylabel('accuracy')\n",
    "plt.show()"
   ]
  },
  {
   "cell_type": "code",
   "execution_count": 74,
   "metadata": {},
   "outputs": [
    {
     "name": "stdout",
     "output_type": "stream",
     "text": [
      "Maximum accuracy: 0.88\n",
      "Lambda_max_2 = 1.69\n"
     ]
    }
   ],
   "source": [
    "# Q19\n",
    "max_accu_2 = max(accu_2)\n",
    "print('Maximum accuracy:',max_accu_2)\n",
    "max_position = accu_2.index(max_accu_2)\n",
    "lambda_max_2 = max_position*0.01\n",
    "print('Lambda_max_2 =',lambda_max_2)"
   ]
  },
  {
   "cell_type": "code",
   "execution_count": 112,
   "metadata": {},
   "outputs": [
    {
     "data": {
      "image/png": "[encoded data removed]",
      "text/plain": [
       "<matplotlib.figure.Figure at 0x1a1cecd438>"
      ]
     },
     "metadata": {},
     "output_type": "display_data"
    },
    {
     "data": {
      "image/png": "[encoded data removed]",
      "text/plain": [
       "<matplotlib.figure.Figure at 0x1a1d9f1978>"
      ]
     },
     "metadata": {},
     "output_type": "display_data"
    }
   ],
   "source": [
    "# Q20\n",
    "# Ground truth reward: Reward function 2\n",
    "heatmap_plot(reward_function2);\n",
    "# Extracted reward is computed by solving the linear program with lambda_max_1\n",
    "\n",
    "opt_policy_value_2 = computation2(w=w, reward_function=reward_function2, number_of_states=100, discount_factor=discount_factor,\n",
    "                          state_map=state_value_func_2);\n",
    "extracted_reward_2 = IRL(100, 4, P_ss_a, opt_policy_value_2, discount_factor, reward_function2.max(), lambda_max_2)\n",
    "heatmap_plot(extracted_reward_2);"
   ]
  },
  {
   "cell_type": "code",
   "execution_count": 113,
   "metadata": {},
   "outputs": [
    {
     "data": {
      "image/png": "[encoded data removed]",
      "text/plain": [
       "<matplotlib.figure.Figure at 0x1a1ec1ebe0>"
      ]
     },
     "metadata": {},
     "output_type": "display_data"
    }
   ],
   "source": [
    "# Q21\n",
    "opt_state_value_func_extracted_2 = optimal_state_value(w, extracted_reward_2, number_of_states, discount_factor, epsilon=0.01)\n",
    "heatmap_plot(opt_state_value_func_extracted_2)"
   ]
  },
  {
   "cell_type": "code",
   "execution_count": 116,
   "metadata": {},
   "outputs": [
    {
     "data": {
      "image/png": "[encoded data removed]",
      "text/plain": [
       "<matplotlib.figure.Figure at 0x1a1e246d30>"
      ]
     },
     "metadata": {},
     "output_type": "display_data"
    }
   ],
   "source": [
    "# Q23\n",
    "opt_policy_extracted_2 = computation(w=w, reward_function=extracted_reward_2, number_of_states=100, discount_factor=discount_factor, state_map=opt_state_value_func_extracted_2);\n",
    "gridmap_plot(map=opt_policy_extracted_2, type=False)"
   ]
  },
  {
   "cell_type": "code",
   "execution_count": null,
   "metadata": {},
   "outputs": [],
   "source": []
  }
 ],
 "metadata": {
  "kernelspec": {
   "display_name": "Python 3",
   "language": "python",
   "name": "python3"
  },
  "language_info": {
   "codemirror_mode": {
    "name": "ipython",
    "version": 3
   },
   "file_extension": ".py",
   "mimetype": "text/x-python",
   "name": "python",
   "nbconvert_exporter": "python",
   "pygments_lexer": "ipython3",
   "version": "3.6.5"
  }
 },
 "nbformat": 4,
 "nbformat_minor": 2
}
