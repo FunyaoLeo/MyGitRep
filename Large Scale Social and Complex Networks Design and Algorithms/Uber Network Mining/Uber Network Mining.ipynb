{
 "cells": [
  {
   "cell_type": "code",
   "execution_count": 1,
   "metadata": {},
   "outputs": [
    {
     "name": "stderr",
     "output_type": "stream",
     "text": [
      "\n",
      "Attaching package: 'igraph'\n",
      "\n",
      "The following objects are masked from 'package:stats':\n",
      "\n",
      "    decompose, spectrum\n",
      "\n",
      "The following object is masked from 'package:base':\n",
      "\n",
      "    union\n",
      "\n"
     ]
    }
   ],
   "source": [
    "library('igraph')\n",
    "library('Matrix')"
   ]
  },
  {
   "cell_type": "markdown",
   "metadata": {},
   "source": [
    "# Qestion 6"
   ]
  },
  {
   "cell_type": "code",
   "execution_count": 2,
   "metadata": {
    "collapsed": true
   },
   "outputs": [],
   "source": [
    "# build the graph\n",
    "path=\"E:/Quarter 3/Large Scale Social and Complex Networks Design and Algorithms/project5/new_SF.csv\"\n",
    "el=read.csv(path) # read  the 'el.with.weights.csv' file\n",
    "el[,1]=as.character(el[,1]) #Because the vertex IDs in this dataset are numbers, we make sure igraph knows these should be treated as characters. Otherwise, it'll create problems (see page on data import)\n",
    "el[,2]=as.character(el[,2])\n",
    "el=as.matrix(el) #igraph needs the edgelist to be in matrix format\n",
    "g=graph.edgelist(el[,1:2],directed=FALSE) #We first greate a network from the first two columns, which has the list of vertices\n",
    "E(g)$weight=as.numeric(el[,3]) #We then add the edge weights to this network by assigning an edge attribute called 'weight'."
   ]
  },
  {
   "cell_type": "code",
   "execution_count": 3,
   "metadata": {
    "collapsed": true
   },
   "outputs": [],
   "source": [
    "# add attributes to vertices\n",
    "path = \"E:/Quarter 3/Large Scale Social and Complex Networks Design and Algorithms/project5/id_info.csv\"\n",
    "info = read.csv(path)\n",
    "id2street = as.list(setNames(as.character(info$name), info$movement))\n",
    "id2coordinator_x = as.list(setNames(info$x, info$movement))\n",
    "id2coordinator_y = as.list(setNames(info$y, info$movement))\n",
    "\n",
    "V(g)$street_name = id2street[V(g)$name]\n",
    "V(g)$loc_x = id2coordinator_x[V(g)$name]\n",
    "V(g)$loc_y = id2coordinator_y[V(g)$name]\n"
   ]
  },
  {
   "cell_type": "code",
   "execution_count": 4,
   "metadata": {},
   "outputs": [
    {
     "name": "stdout",
     "output_type": "stream",
     "text": [
      "[1] 1880\n",
      "[1] 311802\n"
     ]
    }
   ],
   "source": [
    "c = components(g)\n",
    "gcc = induced.subgraph(g, which(c$membership == which.max(c$csize)))\n",
    "print(length(V(gcc)))\n",
    "print(length(E(gcc)))"
   ]
  },
  {
   "cell_type": "markdown",
   "metadata": {},
   "source": [
    "# Question 7"
   ]
  },
  {
   "cell_type": "code",
   "execution_count": 5,
   "metadata": {},
   "outputs": [
    {
     "data": {
      "image/png": "[encoded data removed]",
      "text/plain": [
       "Plot with title \"Minimum Spanning Tree\""
      ]
     },
     "metadata": {},
     "output_type": "display_data"
    }
   ],
   "source": [
    "g_mst = mst(gcc, weights = E(gcc)$weight, algorithm=\"prim\")\n",
    "plot(g_mst, vertex.color = rep(1, vcount(g_mst)), vertex.size = rep(2, vcount(g_mst)), vertex.label = NA, main=\"Minimum Spanning Tree\")"
   ]
  },
  {
   "cell_type": "code",
   "execution_count": 6,
   "metadata": {},
   "outputs": [
    {
     "name": "stdout",
     "output_type": "stream",
     "text": [
      "[[1]]\n",
      "[1] \"3800 Longbridge Drive, Modesto\"\n",
      "\n",
      "[[1]]\n",
      "[1] \"5400 Stoddard Road, Modesto\"\n",
      "\n",
      "[[1]]\n",
      "[1] \"500 South Stockton Avenue, Ripon\"\n",
      "\n",
      "[[1]]\n",
      "[1] \"19200 Murphy Road, Ripon\"\n",
      "\n"
     ]
    }
   ],
   "source": [
    "print(V(g_mst)['374']$street_name)\n",
    "print(V(g_mst)['2076']$street_name)\n",
    "print(V(g_mst)['2446']$street_name)\n",
    "print(V(g_mst)['2328']$street_name)"
   ]
  },
  {
   "cell_type": "markdown",
   "metadata": {},
   "source": [
    "# Question 8"
   ]
  },
  {
   "cell_type": "code",
   "execution_count": 6,
   "metadata": {
    "collapsed": true
   },
   "outputs": [],
   "source": [
    "adj_mat = as_adjacency_matrix(gcc, type = \"both\", attr = \"weight\")"
   ]
  },
  {
   "cell_type": "code",
   "execution_count": 8,
   "metadata": {
    "collapsed": true
   },
   "outputs": [],
   "source": [
    "iteration = 0\n",
    "count = 0\n",
    "while(iteration<1000){\n",
    "    v1 = sample(V(gcc), 1)$name\n",
    "    v2 = sample(V(gcc), 1)$name\n",
    "    v3 = sample(V(gcc), 1)$name\n",
    "    \n",
    "    if(v1!=v2 && v2!=v3 && v3!=v1){\n",
    "        l1 = adj_mat[v1,v2]\n",
    "        l2 = adj_mat[v2,v3]\n",
    "        l3 = adj_mat[v1,v3]\n",
    "        \n",
    "        if(l1*l2*l3!=0){\n",
    "            iteration = iteration + 1\n",
    "            if(l1+l2>l3 && l1+l3>l2 && l2+l3>l1) count = count+1\n",
    "        }\n",
    "    }\n",
    "    \n",
    "}"
   ]
  },
  {
   "cell_type": "code",
   "execution_count": 9,
   "metadata": {},
   "outputs": [
    {
     "data": {
      "text/html": [
       "941"
      ],
      "text/latex": [
       "941"
      ],
      "text/markdown": [
       "941"
      ],
      "text/plain": [
       "[1] 941"
      ]
     },
     "metadata": {},
     "output_type": "display_data"
    }
   ],
   "source": [
    "count"
   ]
  },
  {
   "cell_type": "markdown",
   "metadata": {},
   "source": [
    "# Question 9"
   ]
  },
  {
   "cell_type": "code",
   "execution_count": 7,
   "metadata": {
    "collapsed": true
   },
   "outputs": [],
   "source": [
    "min_distance = function(graph, node1, node2){\n",
    "    if(get.edge.ids(graph, c(node1, node2))==0){\n",
    "        path = shortest_paths(graph, from=node1, to=node2, weights=E(graph)$weight)\n",
    "        tot <- 0\n",
    "        for(k in 1:(length(path$vpath[[1]])-1))\n",
    "            tot <- tot+E(graph)[get.edge.ids(graph,c(path$vpath[[1]][k],path$vpath[[1]][k+1]))]$weight\n",
    "        return(tot)\n",
    "    }\n",
    "    else\n",
    "        return (E(graph)[get.edge.ids(graph, c(node1, node2))]$weight)\n",
    "}"
   ]
  },
  {
   "cell_type": "code",
   "execution_count": 8,
   "metadata": {
    "collapsed": true
   },
   "outputs": [],
   "source": [
    "dfs = dfs(graph=g_mst, root=V(g_mst)[1], order=TRUE, order.out=FALSE, father=FALSE)"
   ]
  },
  {
   "cell_type": "code",
   "execution_count": 18,
   "metadata": {},
   "outputs": [
    {
     "data": {
      "text/html": [
       "1.65558116444551"
      ],
      "text/latex": [
       "1.65558116444551"
      ],
      "text/markdown": [
       "1.65558116444551"
      ],
      "text/plain": [
       "[1] 1.655581"
      ]
     },
     "metadata": {},
     "output_type": "display_data"
    }
   ],
   "source": [
    "g_tsp = make_empty_graph(n = vcount(gcc), directed = FALSE)\n",
    "edge_weight = c()\n",
    "node <- as.matrix(dfs$order)\n",
    "distance = 0\n",
    "for(i in 1:1879){\n",
    "    g_tsp = add_edges(g_tsp, c(node[i], node[i+1]))\n",
    "    weight = min_distance(gcc, node[i], node[i+1])\n",
    "    distance = distance + weight\n",
    "    edge_weight = c(edge_weight, weight)\n",
    "}\n",
    "\n",
    "g_tsp = add_edges(g_tsp, c(node[1], node[1880]))\n",
    "weight = min_distance(gcc, node[1], node[1880])\n",
    "distance = distance + weight\n",
    "edge_weight = c(edge_weight, weight)\n",
    "\n",
    "pseudo_optimal = sum(E(g_mst)$weight)\n",
    "distance/pseudo_optimal\n"
   ]
  },
  {
   "cell_type": "markdown",
   "metadata": {},
   "source": [
    "# Question 10"
   ]
  },
  {
   "cell_type": "code",
   "execution_count": 32,
   "metadata": {},
   "outputs": [
    {
     "data": {
      "image/png": "[encoded data removed]",
      "text/plain": [
       "Plot with title \"\""
      ]
     },
     "metadata": {},
     "output_type": "display_data"
    }
   ],
   "source": [
    "g_tsp = set_edge_attr(g_tsp, \"weight\", value = edge_weight)\n",
    "x = c()\n",
    "y = c()\n",
    "for(i in 1:1880){\n",
    "    x = c(x, as.numeric(V(g_mst)[node[i]]$loc_x))\n",
    "    y = c(y, as.numeric(V(g_mst)[node[i]]$loc_y))\n",
    "}\n",
    "coordinate = data.frame(X=x, Y=y)\n",
    "coordinate = as.matrix(coordinate)\n",
    "plot(g_tsp,vertex.size=2, vertex.label=NA)"
   ]
  },
  {
   "cell_type": "code",
   "execution_count": 38,
   "metadata": {},
   "outputs": [
    {
     "name": "stdout",
     "output_type": "stream",
     "text": [
      "+ 1/1880 vertex, named, from caf5bae:\n",
      "[1] 102\n",
      "[[1]]\n",
      "[1] \"500 Mount Street, East Richmond, Richmond\"\n",
      "\n",
      "+ 1/1880 vertex, named, from caf5bae:\n",
      "[1] 1651\n",
      "[[1]]\n",
      "[1] \"600 39th Street, North & East, Richmond\"\n",
      "\n",
      "+ 1/1880 vertex, named, from caf5bae:\n",
      "[1] 1655\n",
      "[[1]]\n",
      "[1] \"100 South 35th Street, Pullman, Richmond\"\n",
      "\n",
      "+ 1/1880 vertex, named, from caf5bae:\n",
      "[1] 1047\n",
      "[[1]]\n",
      "[1] \"1700 Eastshore Boulevard, El Cerrito\"\n",
      "\n",
      "+ 1/1880 vertex, named, from caf5bae:\n",
      "[1] 417\n",
      "[[1]]\n",
      "[1] \"4400 Bell Avenue, Eastshore, Richmond\"\n",
      "\n"
     ]
    }
   ],
   "source": [
    "for(i in 1:5){\n",
    "    print(V(g_mst)[node[i]])\n",
    "    print(V(g_mst)[node[i]]$street_name)\n",
    "}"
   ]
  },
  {
   "cell_type": "code",
   "execution_count": null,
   "metadata": {
    "collapsed": true
   },
   "outputs": [],
   "source": []
  }
 ],
 "metadata": {
  "kernelspec": {
   "display_name": "R",
   "language": "R",
   "name": "ir"
  },
  "language_info": {
   "codemirror_mode": "r",
   "file_extension": ".r",
   "mimetype": "text/x-r-source",
   "name": "R",
   "pygments_lexer": "r",
   "version": "3.4.4"
  }
 },
 "nbformat": 4,
 "nbformat_minor": 2
}
